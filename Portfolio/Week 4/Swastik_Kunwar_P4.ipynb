{
 "cells": [
  {
   "cell_type": "code",
   "execution_count": null,
   "id": "66da82c2-9083-47e8-a15c-ddaf53545761",
   "metadata": {},
   "outputs": [],
   "source": [
    "from math import log2, sqrt\n",
    "print(log2(1024))"
   ]
  },
  {
   "cell_type": "code",
   "execution_count": null,
   "id": "8070c9e1-38b2-44ca-9d8e-68d12551807f",
   "metadata": {},
   "outputs": [],
   "source": [
    "def displayTwice(msg):\n",
    "    \"\"\" Display the message twice. \"\"\"\n",
    "    print(msg)\n",
    "    print(msg)\n",
    "    \n",
    "help(displayTwice)"
   ]
  },
  {
   "cell_type": "code",
   "execution_count": null,
   "id": "a57927f1-b00c-4df1-8945-9b9b81d482c2",
   "metadata": {},
   "outputs": [],
   "source": [
    "def findMax(a,b):\n",
    "    \"\"\"Finds the maximum of two values.\"\"\"\n",
    "    if ( a > b ):\n",
    "        max = a\n",
    "    else:\n",
    "        max = b\n",
    "    return max\n",
    "\n",
    "print(\"Maximum:\", findMax(10,3))\n",
    "print(\"Maximum:\", findMax(1,3))\n",
    "print(\"Maximum:\", findMax(3,3))"
   ]
  },
  {
   "cell_type": "code",
   "execution_count": null,
   "id": "ec85066d-de22-4472-a5a4-bcbb5f150277",
   "metadata": {},
   "outputs": [],
   "source": [
    "def mult(a, b = None):\n",
    "    \"\"\"Finds the product of two value, if the input has one value, the value multiplies itself. \"\"\"\n",
    "    if b is not None:\n",
    "        multiply = a * b\n",
    "        return multiply\n",
    "    else:\n",
    "        return a * a\n",
    "\n",
    "    \n",
    "\n",
    "print(mult(10,2))\n",
    "print(mult(2))\n",
    "print(mult(1,2))\n",
    "print(mult(12))"
   ]
  },
  {
   "cell_type": "code",
   "execution_count": null,
   "id": "87ffebaf-4c1f-463f-8b77-9e38c7fb21ae",
   "metadata": {},
   "outputs": [],
   "source": [
    "def someFunc(x, y, z):\n",
    "    \"\"\"Gives example of keyboard arguments. \"\"\"\n",
    "    print(\"x is\", x, \"\\ny is\", y, \"\\nz is\", z)\n",
    "    \n",
    "someFunc(z=4, x=7, y=5)\n",
    "someFunc(z=3, y=4, x=6)\n",
    "someFunc(x=1, y=4, z=3)"
   ]
  },
  {
   "cell_type": "code",
   "execution_count": null,
   "id": "b69aa7d7-1029-4c46-9540-1d0a20e6b743",
   "metadata": {},
   "outputs": [],
   "source": [
    "def sep(show, number = 10, time = 2, suffix = \"!\"):\n",
    "    \"\"\"Adds the dash symbol after each word. \"\"\"\n",
    "    print(show, number, time, suffix, sep = \"-\")\n",
    "    \n",
    "sep(\"BreakingBad\")\n",
    "    "
   ]
  },
  {
   "cell_type": "code",
   "execution_count": null,
   "id": "ceb5f135-46c7-465f-8a9d-1a45df8537e9",
   "metadata": {},
   "outputs": [],
   "source": [
    "def calcAve(*numbers):\n",
    "    \"\"\"Example of variable length arguments. \"\"\"\n",
    "    total = 0\n",
    "    for num in numbers:\n",
    "        total += num\n",
    "    return total/len(numbers)\n",
    "\n",
    "print(calcAve(3, 4, 5, 6, 7, 8, 9))\n",
    "print(calcAve(40, 20, 10, 20, 30, 100, 60))\n",
    "print(calcAve(100, 233, 455))"
   ]
  },
  {
   "cell_type": "code",
   "execution_count": null,
   "id": "febf1600-756a-4677-aa08-df0a403ce96b",
   "metadata": {},
   "outputs": [],
   "source": [
    "hypot = lambda a,b : sqrt(a * a + b * b)\n",
    "type(hypot)"
   ]
  },
  {
   "cell_type": "code",
   "execution_count": null,
   "id": "064e6964-a64f-436c-89a7-1efd58b4ab43",
   "metadata": {},
   "outputs": [],
   "source": [
    "to_seconds =  lambda hours, minutes: (hours * 3600) + (minutes * 60)\n",
    "\n",
    "print(to_seconds(0,2))\n",
    "print(to_seconds(2,0))\n",
    "print(to_seconds(1,30))"
   ]
  },
  {
   "cell_type": "code",
   "execution_count": null,
   "id": "bb4f38c3-3244-401e-bb98-5d035f388bba",
   "metadata": {},
   "outputs": [],
   "source": [
    "to_seconds =  lambda hours, minutes = 0: (hours * 3600) + (minutes * 60)\n",
    "print(to_seconds(2))\n",
    "print(to_seconds(1))"
   ]
  }
 ],
 "metadata": {
  "kernelspec": {
   "display_name": "Python 3 (ipykernel)",
   "language": "python",
   "name": "python3"
  },
  "language_info": {
   "codemirror_mode": {
    "name": "ipython",
    "version": 3
   },
   "file_extension": ".py",
   "mimetype": "text/x-python",
   "name": "python",
   "nbconvert_exporter": "python",
   "pygments_lexer": "ipython3",
   "version": "3.10.9"
  }
 },
 "nbformat": 4,
 "nbformat_minor": 5
}
