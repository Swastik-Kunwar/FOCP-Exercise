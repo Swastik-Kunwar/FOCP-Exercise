{
 "cells": [
  {
   "cell_type": "code",
   "execution_count": null,
   "id": "ecec61e0-3675-4920-addd-dadbd10de592",
   "metadata": {},
   "outputs": [],
   "source": [
    "from math import sqrt\n",
    "squares = [4, 9, 16, 25]\n",
    "for i in squares:\n",
    "    print(sqrt(i))"
   ]
  },
  {
   "cell_type": "code",
   "execution_count": null,
   "id": "d89e343c-4574-4b39-abe8-a962e7e77f62",
   "metadata": {},
   "outputs": [],
   "source": [
    "squares = [4, 9, 16, 25]\n",
    "squares.append(49)\n",
    "squares.append(64)\n",
    "squares.append(81)\n",
    "\n",
    "print(squares)"
   ]
  },
  {
   "cell_type": "code",
   "execution_count": null,
   "id": "599d1980-7141-45f9-9f08-442ec1ffa19b",
   "metadata": {},
   "outputs": [],
   "source": [
    "squares.extend([121, 144, 169])\n",
    "print(squares)"
   ]
  },
  {
   "cell_type": "code",
   "execution_count": null,
   "id": "817ddc34-61fb-4609-a67e-a658d36009aa",
   "metadata": {},
   "outputs": [],
   "source": [
    "squares.insert(0,2)\n",
    "print(squares)"
   ]
  },
  {
   "cell_type": "code",
   "execution_count": null,
   "id": "47731cbe-ec43-41fe-9554-a2335c7eba22",
   "metadata": {},
   "outputs": [],
   "source": [
    "squares.remove(49)\n",
    "print(squares)\n",
    "\n"
   ]
  },
  {
   "cell_type": "code",
   "execution_count": null,
   "id": "eb7757e0-29c2-4883-8c1e-2e578004eff7",
   "metadata": {},
   "outputs": [],
   "source": [
    "square.remove(3)"
   ]
  },
  {
   "cell_type": "code",
   "execution_count": null,
   "id": "8cdf2913-ad94-4452-b583-34d3fc04f85b",
   "metadata": {},
   "outputs": [],
   "source": [
    "num = [1, 2, 3, 1, 2] \n",
    "num.remove(2)\n",
    "print(num)"
   ]
  },
  {
   "cell_type": "code",
   "execution_count": null,
   "id": "fb6365a7-3415-4131-94e5-c9d852a58e30",
   "metadata": {},
   "outputs": [],
   "source": [
    "squares.pop()\n",
    "print(squares)"
   ]
  },
  {
   "cell_type": "code",
   "execution_count": null,
   "id": "2ed18786-842b-4b56-a618-6a7ccad4c5a3",
   "metadata": {},
   "outputs": [],
   "source": [
    "squares.pop(0,)\n",
    "print(squares)"
   ]
  },
  {
   "cell_type": "code",
   "execution_count": null,
   "id": "aa4a8647-749c-4000-86db-29b34ad3aa5f",
   "metadata": {},
   "outputs": [],
   "source": [
    "names = [ \"Eric\", \"anna\", \"Sophie\", \"sam\" ]\n",
    "names.sort()\n",
    "print(names)"
   ]
  },
  {
   "cell_type": "code",
   "execution_count": null,
   "id": "8dc68631-6cb9-447a-bc25-355043408488",
   "metadata": {},
   "outputs": [],
   "source": [
    "names_sort = sorted(names, key = lambda name: name.upper())\n",
    "print(names)"
   ]
  },
  {
   "cell_type": "code",
   "execution_count": null,
   "id": "87f2089a-acf2-490d-87a4-e2831797f707",
   "metadata": {},
   "outputs": [],
   "source": [
    "squares.reverse()\n",
    "print(squares)"
   ]
  },
  {
   "cell_type": "code",
   "execution_count": null,
   "id": "3f81ba54-fd18-4bcf-a822-9cee378dbfae",
   "metadata": {},
   "outputs": [],
   "source": [
    "colours = [\"red\", \"green\", \"yellow\", \"blue\", \"red\"]\n",
    "print(colours.index(\"blue\"))"
   ]
  },
  {
   "cell_type": "code",
   "execution_count": null,
   "id": "433d4333-9446-4d1a-9a20-a4f1593d0aad",
   "metadata": {},
   "outputs": [],
   "source": [
    "new_colours = colours.copy()\n",
    "new_colours.extend([\"Black\", \"Brown\"])\n",
    "print(colours)\n",
    "print(new_colours)"
   ]
  },
  {
   "cell_type": "code",
   "execution_count": null,
   "id": "930a1708-5ebf-4f15-a22e-ab4742eca252",
   "metadata": {},
   "outputs": [],
   "source": [
    "cubes = [ x**3 for x in range(2,21) ]\n",
    "print(cubes)"
   ]
  },
  {
   "cell_type": "code",
   "execution_count": null,
   "id": "8c3708d3-bd65-458e-a700-4fa4c0dc17ce",
   "metadata": {},
   "outputs": [],
   "source": [
    "address = (33405, \"St.SH\", 112.3)\n",
    "print(address)\n"
   ]
  },
  {
   "cell_type": "code",
   "execution_count": null,
   "id": "b040a1c3-42c6-41d0-a894-9e4b24b1e9ce",
   "metadata": {},
   "outputs": [],
   "source": [
    "empty = ()\n",
    "the_one = \"Neo\",\n",
    "one = (\"Neo\")\n",
    "print(type(empty))\n",
    "print(type(the_one))\n",
    "print(type(one))"
   ]
  },
  {
   "cell_type": "code",
   "execution_count": null,
   "id": "45c08eb4-6b43-4e93-a8c9-ff9fa0f73675",
   "metadata": {},
   "outputs": [],
   "source": [
    "house_num, street, postcode = address\n",
    "print(*address)\n",
    "print(house_num, street, postcode)"
   ]
  },
  {
   "cell_type": "code",
   "execution_count": null,
   "id": "3b15a47b-4022-4546-b361-2c0b5b5bc6a5",
   "metadata": {},
   "outputs": [],
   "source": []
  }
 ],
 "metadata": {
  "kernelspec": {
   "display_name": "Python 3 (ipykernel)",
   "language": "python",
   "name": "python3"
  },
  "language_info": {
   "codemirror_mode": {
    "name": "ipython",
    "version": 3
   },
   "file_extension": ".py",
   "mimetype": "text/x-python",
   "name": "python",
   "nbconvert_exporter": "python",
   "pygments_lexer": "ipython3",
   "version": "3.10.9"
  }
 },
 "nbformat": 4,
 "nbformat_minor": 5
}
