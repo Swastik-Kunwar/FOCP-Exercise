{
 "cells": [
  {
   "cell_type": "code",
   "execution_count": null,
   "id": "87c17a1b",
   "metadata": {},
   "outputs": [],
   "source": [
    "print(10 < 100)\n",
    "print(100 != 100)\n",
    "print(50 >= 50)"
   ]
  },
  {
   "cell_type": "code",
   "execution_count": null,
   "id": "010ceeda",
   "metadata": {},
   "outputs": [],
   "source": [
    "age = 19\n",
    "print(age < 18)\n",
    "\n",
    "print(age < 21)\n",
    "\n",
    "print(age < 31)"
   ]
  },
  {
   "cell_type": "code",
   "execution_count": null,
   "id": "bf901012",
   "metadata": {},
   "outputs": [],
   "source": [
    "print(\"a\" < \"b\")\n",
    "\n",
    "print(\"b\" < \"a\")\n",
    "\n",
    "print(\"John\" < \"Terry\")\n",
    "\n",
    "print(\"john\" < \"Terry\")\n",
    "\n"
   ]
  },
  {
   "cell_type": "code",
   "execution_count": null,
   "id": "16f56f3e",
   "metadata": {},
   "outputs": [],
   "source": [
    "print(5 < 10.2)\n",
    "#different data types\n",
    "print(5< \"Monty\")\n",
    "\n",
    "print(5 < \"5\")"
   ]
  },
  {
   "cell_type": "code",
   "execution_count": null,
   "id": "71ba5884",
   "metadata": {},
   "outputs": [],
   "source": [
    "age = 30\n",
    "print(age >=18 and age <=65)\n",
    "print(age <18 or age >65)\n",
    "print(not age > 18)"
   ]
  },
  {
   "cell_type": "code",
   "execution_count": null,
   "id": "7f24d278",
   "metadata": {},
   "outputs": [],
   "source": [
    "height = 180\n",
    "weight = 100\n",
    "\n",
    "print(100 < weight and weight < 200)\n",
    "print( 131 <  height <= 160)"
   ]
  },
  {
   "cell_type": "code",
   "execution_count": null,
   "id": "24b3a2be",
   "metadata": {},
   "outputs": [],
   "source": [
    "names = [\"Terry\",\"John\", \"Michael\", \"Eric\", \"Terry\", \"Graham\"]\n",
    "print(\"eric\" in names)\n",
    "print(\"John\" not in names )\n",
    "\n",
    "message = \"Hello there, my name is John\"\n",
    "print(\"z\" in message)"
   ]
  },
  {
   "cell_type": "code",
   "execution_count": null,
   "id": "2554391e",
   "metadata": {},
   "outputs": [],
   "source": [
    "age = 20\n",
    "\n",
    "if 18 <= age <= 30:\n",
    "    print(\"you are still young\")\n"
   ]
  },
  {
   "cell_type": "code",
   "execution_count": null,
   "id": "29f4b726",
   "metadata": {},
   "outputs": [],
   "source": [
    "\n",
    "age = int(input(\"enter your age: \"))\n",
    "\n",
    "if 18 <= age <= 30:\n",
    "    print(\"you are still young\")\n",
    "elif 30< age <= 40:\n",
    "    print(\"You are between 30-40 years\")\n",
    "else:\n",
    "    print(\"try again\")\n",
    "\n"
   ]
  },
  {
   "cell_type": "code",
   "execution_count": null,
   "id": "50bd33b6",
   "metadata": {},
   "outputs": [],
   "source": [
    "name = input(\"Enter your name: \")\n",
    "if name != \"\":\n",
    "    print(\"Your name is\", name)\n",
    "else: \n",
    "    print(\"name not entered\")"
   ]
  },
  {
   "cell_type": "code",
   "execution_count": null,
   "id": "a6c2e54d",
   "metadata": {},
   "outputs": [],
   "source": [
    "age = 30\n",
    "print(\"you are an adult\" if age >= 18 else \"you are not an adult, yet\")\n"
   ]
  },
  {
   "cell_type": "code",
   "execution_count": null,
   "id": "4658b097",
   "metadata": {},
   "outputs": [],
   "source": [
    "for name in [\"Arron, jack, jill, harry\"]:\n",
    "    print(name)\n",
    "    "
   ]
  },
  {
   "cell_type": "code",
   "execution_count": null,
   "id": "ef623dc2",
   "metadata": {},
   "outputs": [],
   "source": [
    "for number in range(2,11,2):\n",
    "    print(f\"{number} to the power of {number} = {number ** number}\")"
   ]
  },
  {
   "cell_type": "code",
   "execution_count": null,
   "id": "f725e101",
   "metadata": {},
   "outputs": [],
   "source": [
    "numbers = [10, 20, 30, 90, 200, 30, 22, 11]\n",
    "sum = 0\n",
    "for number in numbers:\n",
    "    sum += number\n",
    "    print(f\"number = {number} and total = {sum}\")"
   ]
  },
  {
   "cell_type": "code",
   "execution_count": null,
   "id": "44dfd49b",
   "metadata": {},
   "outputs": [],
   "source": [
    "numbers = [10, 20, 30, 90, 200, 30, 22, 11]\n",
    "sum = 0\n",
    "for number in numbers:\n",
    "    if number > 100:\n",
    "        break\n",
    "    sum += number\n",
    "    print(f\"number = {number} and total = {sum}\")"
   ]
  },
  {
   "cell_type": "code",
   "execution_count": null,
   "id": "044b121e",
   "metadata": {},
   "outputs": [],
   "source": [
    "numbers = [10, 20, 30, 90, 200, 30, 22, 11]\n",
    "sum = 0\n",
    "for number in numbers:\n",
    "    if number > 100:\n",
    "        continue\n",
    "    sum += number\n",
    "    print(f\"number = {number} and total = {sum}\")\n",
    "print(\"all numbers processed\")"
   ]
  }
 ],
 "metadata": {
  "kernelspec": {
   "display_name": "Python 3 (ipykernel)",
   "language": "python",
   "name": "python3"
  },
  "language_info": {
   "codemirror_mode": {
    "name": "ipython",
    "version": 3
   },
   "file_extension": ".py",
   "mimetype": "text/x-python",
   "name": "python",
   "nbconvert_exporter": "python",
   "pygments_lexer": "ipython3",
   "version": "3.10.9"
  }
 },
 "nbformat": 4,
 "nbformat_minor": 5
}
