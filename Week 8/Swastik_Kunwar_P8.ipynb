{
 "cells": [
  {
   "cell_type": "code",
   "execution_count": null,
   "id": "b1664586-456b-4771-9901-bdfd8c3fd5d8",
   "metadata": {},
   "outputs": [],
   "source": [
    "width = 104.32\n",
    "height = 15.654\n",
    "print(f\"The area of a rectngle with a width of {width} and a height of {height} is {width * height}\")"
   ]
  },
  {
   "cell_type": "code",
   "execution_count": null,
   "id": "5957d5f6-4da0-4876-8da8-0c143e6117c8",
   "metadata": {},
   "outputs": [],
   "source": [
    "print(f\"The area of a rectngle with a width of {width} and a height of {height} is {width * height:.3f}\")"
   ]
  },
  {
   "cell_type": "code",
   "execution_count": null,
   "id": "a6349f93-a713-46cb-8f3c-544c688b850f",
   "metadata": {},
   "outputs": [],
   "source": [
    "name = \"Donald\"\n",
    "age = 75\n",
    "print(f\"{name:$>20} - {age:$>20.2f}\")"
   ]
  },
  {
   "cell_type": "code",
   "execution_count": null,
   "id": "ffed71d0-7d6e-4c6c-b149-121bbf9b1628",
   "metadata": {},
   "outputs": [],
   "source": [
    "r = 52\n",
    "print(\"A circle with radius {} has an area of {area:.10f}\".format(r,area = r * r * 3.1415))"
   ]
  },
  {
   "cell_type": "code",
   "execution_count": null,
   "id": "76f759ec-fe9f-410d-a62d-2b39b312c6ef",
   "metadata": {},
   "outputs": [],
   "source": [
    "print(\"{:@^15} - {:#^10}\".format(name,age))"
   ]
  },
  {
   "cell_type": "code",
   "execution_count": null,
   "id": "17e89c04-3b0e-461d-9b3c-f2735feba7d2",
   "metadata": {},
   "outputs": [],
   "source": [
    "f = open(\"info.txt\")\n",
    "file = f.read()\n",
    "print(file)\n",
    "f.close()"
   ]
  },
  {
   "cell_type": "code",
   "execution_count": null,
   "id": "bb19e27f-176a-467f-9e42-a90c7b73dcf1",
   "metadata": {},
   "outputs": [],
   "source": [
    "f = open(\"info.txt\")\n",
    "line1 = f.readline()\n",
    "line2 = f.readline()\n",
    "line3 = f.readline()\n",
    "print(line1)\n",
    "print(line2)\n",
    "print(line3)\n",
    "\n",
    "f.close()"
   ]
  },
  {
   "cell_type": "code",
   "execution_count": null,
   "id": "24d679a3-2402-45e3-bb77-1cea367ddc11",
   "metadata": {},
   "outputs": [],
   "source": [
    "f = open(\"info.txt\")\n",
    "for line in f:\n",
    "    print(line)\n",
    "f.close()"
   ]
  },
  {
   "cell_type": "code",
   "execution_count": null,
   "id": "c3a40d8b-4966-4162-bfff-d76df5df60c8",
   "metadata": {},
   "outputs": [],
   "source": [
    "f = open(\"info.txt\", \"a\")\n",
    "f.write(\"this is written to the file\")\n",
    "f.close()"
   ]
  },
  {
   "cell_type": "code",
   "execution_count": null,
   "id": "89302b94-6888-47dc-b1ce-0aa9f1939b8c",
   "metadata": {},
   "outputs": [],
   "source": [
    "f = open(\"info.txt\")\n",
    "file = f.read()\n",
    "print(file)\n",
    "f.close()"
   ]
  },
  {
   "cell_type": "code",
   "execution_count": null,
   "id": "dd5c907a-ed6c-415f-b382-1716cf0934cd",
   "metadata": {},
   "outputs": [],
   "source": [
    "with open(\"info.txt\") as f:\n",
    "    for line in f:\n",
    "        print(line)"
   ]
  }
 ],
 "metadata": {
  "kernelspec": {
   "display_name": "Python 3 (ipykernel)",
   "language": "python",
   "name": "python3"
  },
  "language_info": {
   "codemirror_mode": {
    "name": "ipython",
    "version": 3
   },
   "file_extension": ".py",
   "mimetype": "text/x-python",
   "name": "python",
   "nbconvert_exporter": "python",
   "pygments_lexer": "ipython3",
   "version": "3.10.9"
  }
 },
 "nbformat": 4,
 "nbformat_minor": 5
}
