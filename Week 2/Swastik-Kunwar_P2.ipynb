{
 "cells": [
  {
   "cell_type": "code",
   "execution_count": null,
   "id": "801a7cd2",
   "metadata": {},
   "outputs": [],
   "source": [
    "total = 100\n",
    "print(\"The total is\", total)"
   ]
  },
  {
   "cell_type": "code",
   "execution_count": null,
   "id": "5005521e",
   "metadata": {},
   "outputs": [],
   "source": [
    "total = total + 99\n",
    "print(\"The total is now\", total)"
   ]
  },
  {
   "cell_type": "code",
   "execution_count": null,
   "id": "ecd6f059",
   "metadata": {},
   "outputs": [],
   "source": [
    "total -= 1\n",
    "print(\"The total is\", total)\n",
    "total *= 4\n",
    "print(\"The total is\", total)\n",
    "total /= 2\n",
    "print(\"The total is\", total)"
   ]
  },
  {
   "cell_type": "code",
   "execution_count": null,
   "id": "31e51211",
   "metadata": {},
   "outputs": [],
   "source": [
    "total = 98.2\n",
    "count = 5\n",
    "\n",
    "average = total/count\n",
    "print(average)"
   ]
  },
  {
   "cell_type": "code",
   "execution_count": null,
   "id": "a4f979d8",
   "metadata": {},
   "outputs": [],
   "source": [
    "\n",
    "print(type(False))\n",
    "print(type(1000))\n",
    "print(type(100.111))\n",
    "print(type(\"Hello\"))\n",
    "print(type(True))\n",
    "print(type(1000/5))\n",
    "print(type(1000//5))\n"
   ]
  },
  {
   "cell_type": "code",
   "execution_count": null,
   "id": "ac7f8cfe",
   "metadata": {},
   "outputs": [],
   "source": [
    "#The star operator is multiplying the string 10 times\n",
    "print(\"ABC\" * 10)"
   ]
  },
  {
   "cell_type": "code",
   "execution_count": null,
   "id": "25e3cbc9",
   "metadata": {},
   "outputs": [],
   "source": [
    "name =\"SWASTIK KUNWAR\"\n",
    "place = \"KATHMANDU\"\n",
    "number = 1234567890\n",
    "\n",
    "print(name)\n",
    "print(place)\n",
    "print(number)\n",
    "print(len(name))\n"
   ]
  },
  {
   "cell_type": "code",
   "execution_count": null,
   "id": "e1a17a49",
   "metadata": {},
   "outputs": [],
   "source": [
    "# The output does not work as python can concactenate string and not integers\n",
    "age = input(\"Enter your age\")\n",
    "print(\"in one year your age will be\", age + 1)"
   ]
  },
  {
   "cell_type": "code",
   "execution_count": null,
   "id": "6dd01354",
   "metadata": {},
   "outputs": [],
   "source": [
    "num1 = int(input(\"Enter first number: \"))\n",
    "num2 = int(input(\"Enter Second number: \"))\n",
    "\n",
    "print(num1 * num2)"
   ]
  },
  {
   "cell_type": "code",
   "execution_count": null,
   "id": "327a136f",
   "metadata": {},
   "outputs": [],
   "source": [
    "#The double quote inside the first double quote is not defined\n",
    "comment = \"I would have \"thought\" you knew better!\"\n",
    "print(comment)"
   ]
  },
  {
   "cell_type": "code",
   "execution_count": null,
   "id": "05665124",
   "metadata": {},
   "outputs": [],
   "source": [
    "print(\"This text includes characters such as \\'\\\\'' \\'\\\"\\' and \\\"\\'\\\", \\n\\t This is a new line that starts with a tab\\n\\t\\t This new line starts with two tabs \")"
   ]
  },
  {
   "cell_type": "code",
   "execution_count": null,
   "id": "f30b21db",
   "metadata": {},
   "outputs": [],
   "source": [
    "print('\\\\\\\\\\\\\\\\\\\\\\\\\\\\\\\\\\\\\\\\\\\\\\\\\\\\\\\\\\\\\\\\\\\\\\\\\\\\\\\\\\\\ \\n Hello there! \\n \\\\\\\\\\\\\\\\\\\\\\\\\\\\\\\\\\\\\\\\\\\\\\\\\\\\\\\\\\\\\\\\\\\\\\\\\\\\\\\\\\\\' )"
   ]
  },
  {
   "cell_type": "code",
   "execution_count": null,
   "id": "b290fd30",
   "metadata": {},
   "outputs": [],
   "source": [
    "print('''This text spans three lines,\n",
    "and includes both single ('),\n",
    "and double quotes (\").''')"
   ]
  },
  {
   "cell_type": "code",
   "execution_count": null,
   "id": "7d8bcd4f",
   "metadata": {},
   "outputs": [],
   "source": [
    "surname = \"Palin\"\n",
    "initial = surname[2]\n",
    "print(initial)"
   ]
  },
  {
   "cell_type": "code",
   "execution_count": null,
   "id": "682f515d",
   "metadata": {},
   "outputs": [],
   "source": [
    "##index error\n",
    "initial = surname[9]\n",
    "print(initial)"
   ]
  },
  {
   "cell_type": "code",
   "execution_count": null,
   "id": "3c0f01b4",
   "metadata": {},
   "outputs": [],
   "source": [
    "initial = surname[-2]\n",
    "print(initial)"
   ]
  },
  {
   "cell_type": "code",
   "execution_count": null,
   "id": "274b64dc",
   "metadata": {},
   "outputs": [],
   "source": [
    "surname = \"Palin\"\n",
    "middle = surname[1:]\n",
    "print(middle)"
   ]
  },
  {
   "cell_type": "code",
   "execution_count": null,
   "id": "42ca73b1",
   "metadata": {},
   "outputs": [],
   "source": [
    "surname = \"Palin\"\n",
    "print(surname[:-1])"
   ]
  },
  {
   "cell_type": "code",
   "execution_count": null,
   "id": "320698f8",
   "metadata": {},
   "outputs": [],
   "source": [
    "primes = [2, 3, 5, 7, 13, 17, 19, 23, 29, 31, 37, 41, 43, 47]\n",
    "print(primes[:4])"
   ]
  },
  {
   "cell_type": "code",
   "execution_count": null,
   "id": "388ff455",
   "metadata": {},
   "outputs": [],
   "source": [
    "names = [\"Terry\", \"John\", \"Michael\", \"Eric\", \"Terry\", \"Graham\"]\n",
    "names[4:5] = [\"Jack\", \"Jill\"]\n",
    "print(names)"
   ]
  },
  {
   "cell_type": "code",
   "execution_count": null,
   "id": "989a8734",
   "metadata": {},
   "outputs": [],
   "source": [
    "#5 list of 1,2,3\n",
    "nums = [1,2,3] * 5\n",
    "print(nums)\n"
   ]
  }
 ],
 "metadata": {
  "kernelspec": {
   "display_name": "Python 3 (ipykernel)",
   "language": "python",
   "name": "python3"
  },
  "language_info": {
   "codemirror_mode": {
    "name": "ipython",
    "version": 3
   },
   "file_extension": ".py",
   "mimetype": "text/x-python",
   "name": "python",
   "nbconvert_exporter": "python",
   "pygments_lexer": "ipython3",
   "version": "3.10.9"
  }
 },
 "nbformat": 4,
 "nbformat_minor": 5
}
