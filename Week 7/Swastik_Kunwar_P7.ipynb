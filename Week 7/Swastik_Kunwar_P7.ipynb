{
 "cells": [
  {
   "cell_type": "code",
   "execution_count": null,
   "id": "af811119-dffd-4669-923e-417ce11547d2",
   "metadata": {},
   "outputs": [],
   "source": [
    "names = {\"John\", \"Eric\", \"Terry\", \"Michael\", \"Graham\", \"Terry\"}\n",
    "print(names)"
   ]
  },
  {
   "cell_type": "code",
   "execution_count": null,
   "id": "ecec4e5c-c57e-4b0c-9a72-286da850e2c3",
   "metadata": {},
   "outputs": [],
   "source": [
    "sentence = \"this is a sentence containing some letters\"\n",
    "unique_letters = {x for x in sentence}\n",
    "print(unique_letters)"
   ]
  },
  {
   "cell_type": "code",
   "execution_count": null,
   "id": "9e7a24de-5625-47cf-bf81-2394db27e2fe",
   "metadata": {},
   "outputs": [],
   "source": [
    "names = {\"John\", \"Eric\", \"Terry\", \"Michael\", \"Graham\", \"Terry\"}\n",
    "name = input(\"Enter your name: \")\n",
    "if name not in names:\n",
    "\tprint(\"You are not listed in the set of known names\")\n"
   ]
  },
  {
   "cell_type": "code",
   "execution_count": null,
   "id": "460961f0-fee4-4e31-8bb4-b58ba5a71c03",
   "metadata": {},
   "outputs": [],
   "source": [
    "print(help(set))"
   ]
  },
  {
   "cell_type": "code",
   "execution_count": null,
   "id": "cc0828c8-df45-4c20-a54a-8f4131145e86",
   "metadata": {},
   "outputs": [],
   "source": [
    "staff = {\"Pete\", \"Kelly\", \"Jon\", \"Paul\", \"Sally\", \"Sue\"}\n",
    "directors = {\"Kelly\", \"Rupert\", \"Cyril\", \"Jon\"}\n",
    "\n",
    "staff = staff.union({\"Mark\", \"Ringo\"})\n",
    "print(staff)\n",
    "\n",
    "staff_directors = staff.intersection(directors)\n",
    "print(staff_directors)\n",
    "\n",
    "external = directors.difference(staff)\n",
    "print(external)\n",
    "\n",
    "staff_or_external = directors.symmetric_difference(staff)\n",
    "print(staff_or_external)"
   ]
  },
  {
   "cell_type": "code",
   "execution_count": null,
   "id": "05f7b6af-e702-4420-b6e2-45421a05e422",
   "metadata": {},
   "outputs": [],
   "source": [
    "vowels = set({\"a\", \"e\", \"i\"})\n",
    "vowels_add = vowels.update(\"ou\")\n",
    "print(vowels)"
   ]
  },
  {
   "cell_type": "code",
   "execution_count": null,
   "id": "bac4f749-62e9-4a5d-91ac-d344bef84ee5",
   "metadata": {},
   "outputs": [],
   "source": [
    "staff = {\"Pete\", \"Kelly\", \"Jon\", \"Paul\", \"Sally\", \"Sue\"}\n",
    "managers = {\"Kelly\", \"Jon\", \"Paul\", \"Sally\", \"Sue\"}\n",
    "\n",
    "if managers.issubset(staff):\n",
    "\tprint(\"All managers are staff members\")\n",
    "\n",
    "if staff.issuperset(managers):\n",
    "    print(\"All managers are staff members\")\n"
   ]
  },
  {
   "cell_type": "code",
   "execution_count": null,
   "id": "38aabcf0-f391-408f-8e69-745ba50c9a47",
   "metadata": {},
   "outputs": [],
   "source": [
    "print(help(frozenset))"
   ]
  },
  {
   "cell_type": "code",
   "execution_count": null,
   "id": "91357764-5b1c-4878-b933-ae792001ba9d",
   "metadata": {},
   "outputs": [],
   "source": [
    "import math\n",
    "\n",
    "roots = {n : math.sqrt(n) for n in range(1,26)}\n",
    "print(roots)"
   ]
  },
  {
   "cell_type": "code",
   "execution_count": null,
   "id": "4b56aebc-8039-4d99-9ef4-0b36893847ba",
   "metadata": {},
   "outputs": [],
   "source": [
    "stock = {\"apple\":10, \"banana\":15, \"orange\":11 }\n",
    "\n",
    "stock[\"kiwi\"] = 10\n",
    "print(stock)"
   ]
  },
  {
   "cell_type": "code",
   "execution_count": null,
   "id": "351f5605-b12d-46ec-a566-8e4731a24959",
   "metadata": {},
   "outputs": [],
   "source": [
    "stock.popitem()"
   ]
  },
  {
   "cell_type": "code",
   "execution_count": null,
   "id": "65ce2dd0-d2fe-4412-b324-8e15a18dc30f",
   "metadata": {},
   "outputs": [],
   "source": [
    "for num,root in roots.items():\n",
    "    print(f\"The square root of {num} is {root}\")"
   ]
  }
 ],
 "metadata": {
  "kernelspec": {
   "display_name": "Python 3 (ipykernel)",
   "language": "python",
   "name": "python3"
  },
  "language_info": {
   "codemirror_mode": {
    "name": "ipython",
    "version": 3
   },
   "file_extension": ".py",
   "mimetype": "text/x-python",
   "name": "python",
   "nbconvert_exporter": "python",
   "pygments_lexer": "ipython3",
   "version": "3.10.9"
  }
 },
 "nbformat": 4,
 "nbformat_minor": 5
}
